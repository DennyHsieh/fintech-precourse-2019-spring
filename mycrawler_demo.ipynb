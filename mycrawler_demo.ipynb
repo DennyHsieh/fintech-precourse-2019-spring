{
 "cells": [
  {
   "cell_type": "markdown",
   "metadata": {},
   "source": [
    "# Fintech hw0 Demo"
   ]
  },
  {
   "cell_type": "markdown",
   "metadata": {},
   "source": [
    "### Level 1: Flowchart from TA's code (origin_crawler.py)\n",
    "![](img/flowchart_hw0.jpg)"
   ]
  },
  {
   "cell_type": "markdown",
   "metadata": {},
   "source": [
    "### Level 2: Execute TA's code and add annotation\n",
    "Already annotated in origin_crawler.py\n",
    "\n",
    "For ubuntu users:\n",
    "```bash\n",
    "$ python3 origin_crawler.py\n",
    "```\n",
    "\n",
    "For Windows users:\n",
    "```bash\n",
    "$ python origin_crawler.py\n",
    "```"
   ]
  },
  {
   "cell_type": "markdown",
   "metadata": {},
   "source": [
    "### Level 3: Modify code\n",
    "As mycrawler.py shows.\n",
    "Import the modified module"
   ]
  },
  {
   "cell_type": "code",
   "execution_count": 1,
   "metadata": {},
   "outputs": [],
   "source": [
    "import mycrawler as my"
   ]
  },
  {
   "cell_type": "markdown",
   "metadata": {},
   "source": [
    "Setting date range"
   ]
  },
  {
   "cell_type": "code",
   "execution_count": 2,
   "metadata": {},
   "outputs": [],
   "source": [
    "start_date = \"2018-10-24\"\n",
    "stop_date = \"2019-01-24\""
   ]
  },
  {
   "cell_type": "markdown",
   "metadata": {},
   "source": [
    "Crawl the data again if no data exists or the dataframe is not the right form"
   ]
  },
  {
   "cell_type": "code",
   "execution_count": 3,
   "metadata": {},
   "outputs": [
    {
     "name": "stdout",
     "output_type": "stream",
     "text": [
      "load file data/liberty_times.pkl fail, [Errno 2] No such file or directory: 'data/liberty_times.pkl'\n",
      "start crawling : 20181024\n",
      "start crawling : 20181025\n",
      "start crawling : 20181026\n",
      "start crawling : 20181027\n",
      "start crawling : 20181028\n",
      "start crawling : 20181029\n",
      "start crawling : 20181030\n",
      "start crawling : 20181031\n",
      "start crawling : 20181101\n",
      "start crawling : 20181102\n",
      "start crawling : 20181103\n",
      "start crawling : 20181104\n",
      "start crawling : 20181105\n",
      "start crawling : 20181106\n",
      "start crawling : 20181107\n",
      "start crawling : 20181108\n",
      "start crawling : 20181109\n",
      "start crawling : 20181110\n",
      "start crawling : 20181111\n",
      "start crawling : 20181112\n",
      "start crawling : 20181113\n",
      "start crawling : 20181114\n",
      "start crawling : 20181115\n",
      "start crawling : 20181116\n",
      "start crawling : 20181117\n",
      "start crawling : 20181118\n",
      "start crawling : 20181119\n",
      "start crawling : 20181120\n",
      "start crawling : 20181121\n",
      "start crawling : 20181122\n",
      "start crawling : 20181123\n",
      "start crawling : 20181124\n",
      "start crawling : 20181125\n",
      "start crawling : 20181126\n",
      "start crawling : 20181127\n",
      "start crawling : 20181128\n",
      "start crawling : 20181129\n",
      "start crawling : 20181130\n",
      "start crawling : 20181201\n",
      "start crawling : 20181202\n",
      "start crawling : 20181203\n",
      "start crawling : 20181204\n",
      "start crawling : 20181205\n",
      "start crawling : 20181206\n",
      "start crawling : 20181207\n",
      "start crawling : 20181208\n",
      "start crawling : 20181209\n",
      "start crawling : 20181210\n",
      "start crawling : 20181211\n",
      "start crawling : 20181212\n",
      "start crawling : 20181213\n",
      "start crawling : 20181214\n",
      "start crawling : 20181215\n",
      "start crawling : 20181216\n",
      "start crawling : 20181217\n",
      "start crawling : 20181218\n",
      "start crawling : 20181219\n",
      "start crawling : 20181220\n",
      "start crawling : 20181221\n",
      "start crawling : 20181222\n",
      "start crawling : 20181223\n",
      "start crawling : 20181224\n",
      "start crawling : 20181225\n",
      "start crawling : 20181226\n",
      "start crawling : 20181227\n",
      "start crawling : 20181228\n",
      "start crawling : 20181229\n",
      "start crawling : 20181230\n",
      "start crawling : 20181231\n",
      "start crawling : 20190101\n",
      "start crawling : 20190102\n",
      "start crawling : 20190103\n",
      "start crawling : 20190104\n",
      "start crawling : 20190105\n",
      "start crawling : 20190106\n",
      "start crawling : 20190107\n",
      "start crawling : 20190108\n",
      "start crawling : 20190109\n",
      "start crawling : 20190110\n",
      "start crawling : 20190111\n",
      "start crawling : 20190112\n",
      "start crawling : 20190113\n",
      "start crawling : 20190114\n",
      "start crawling : 20190115\n",
      "start crawling : 20190116\n",
      "start crawling : 20190117\n",
      "start crawling : 20190118\n",
      "start crawling : 20190119\n",
      "start crawling : 20190120\n",
      "start crawling : 20190121\n",
      "start crawling : 20190122\n",
      "start crawling : 20190123\n",
      "start crawling : 20190124\n"
     ]
    }
   ],
   "source": [
    "all_data = my.read_data()\n",
    "if not all_data:\n",
    "    my.save_data(start_date, stop_date)\n",
    "    all_data = my.read_data()"
   ]
  },
  {
   "cell_type": "markdown",
   "metadata": {},
   "source": [
    "Check the result (first five datas)"
   ]
  },
  {
   "cell_type": "code",
   "execution_count": 4,
   "metadata": {},
   "outputs": [
    {
     "data": {
      "text/plain": [
       "[{'date': '2018-10-24',\n",
       "  'title': '爭議太大 立院不審宗教法',\n",
       "  'link': 'http://news.ltn.com.tw/news/politics/paper/1241669',\n",
       "  'content': '〔記者楊淳卉、林良昇、李欣芳／台北報導〕立法院內政委員會原排定今天審查國民黨立委王金平、黃昭順、馬文君及民進黨立委林岱樺所提「宗教基本法草案」，但因內容涉及諸多爭議，引發外界批評。民進黨團昨天對此案表達反對立場，內政委員會召委黃昭順也變更議程，今天不審查「宗教基本法草案」。立法院施政總質詢昨最後一棒是王金平，王質詢結束後，民進黨團總召柯建銘當面告知多位參與連署的民進黨立委已撤簽，提案人王金平最後也加入撤簽行列。柯建銘受訪時說，此案已凍結，「形同殭屍化」、「不可能再復活」。「宗教基本法草案」爭議內容包括第十條明定「聖俗分離原則」，處理宗教事務之主管機關，不得介入宗教教務。法院不得調解與干涉教務事項，亦不得干涉其組織及人事任免。第十三條明定「宗教自主權」，政府機關不得限制宗教活動，宗教團體人事和財務管理享有自主權，不受民法及有關公益團體及財團法人主管機關監督。國家不得強制要求宗教團體遵守民主與公開之原則。草案第十四條規範「就業歧視之例外」，宗教團體聘用人員得以該宗教團體相同宗教信仰為聘僱條件，不構成就業服務法之宗教歧視；第十五條「未成年人之宗教選擇權」，父母或監護人為其未滿十六歲子女選擇宗教信仰和宗教教育之自由，國家和地方自治團體應尊重。第廿條規範「財務自主原則」，宗教團體財務依章程定之，宗教師死亡遺產歸屬，依其遺囑定之，不受民法規範。第廿七條則規範「宗教用地的地權與地用」，若宗教建築物占用公家土地，可以要求政府讓售或出租，不受土地法限制，也不受建築法限制，若不合適，政府還需另選址給宗教團體做為建築用地。「宗教基本法草案」連署人包括國、民、親、無黨籍等卅三名立委，因內容引發爭議，多名民進黨立委撤簽連署。民進黨團、時力黨團提出復議將案子退回院會，院會主席蔡其昌裁示另訂日期處理。柯建銘表示，民進黨團盼有更充分的時間與空間，形成社會對於宗教團體規管的共識，不願意在這個時間點就草率地審議法案，更不願見到宗教因法案審議產生的紛擾而被抹黑。黃昭順說，宗教基本法草案非圖利任何團體或個人，她對於有立委質詢時指控「大陸統戰台灣透過宗教交流洗錢」感到難過，為了不讓台灣宗教再被污名化、政治化，故取消今日法案審議。內政部民政司長林清淇表示，上述草案因有許多爭議條文，內政部因此持保留態度，由於憲法已保障宗教信仰的自由，因此沒有必要再訂立宗教基本法。',\n",
       "  'tags': []},\n",
       " {'date': '2018-10-24',\n",
       "  'title': '黨職併公職溢領金 國民黨：無力負擔非拒繳',\n",
       "  'link': 'http://news.ltn.com.tw/news/politics/paper/1241670',\n",
       "  'content': '〔記者施曉光／台北報導〕針對外界質疑國民黨有錢，卻拒繳黨職併公職溢領金，國民黨行管會昨天澄清指出，該黨目前因黨職併公職案，遭追討的金額為六百八十九萬五千一百三十三元，雖其受凍結的永豐銀行帳戶尚有餘款約六百六十三萬元，但實不足以支付黨職併公職溢領金。行管會指出，黨職併公職有一定的時空背景，也符合當時的法令依據，現在竟以溯及既往的法令追討，國民黨實在無法認同，該黨雖然財務困難，但對於應付的法定義務款項，絕對依法繳納，而且後續仍有相關法定義務的款項必須繳納，例如地價稅、房屋稅等稅款，但該黨受凍結的永豐銀行帳戶餘款，支付後續金額實在是杯水車薪。行管會指出，黨產會不斷以拙劣的手段用行政處分追徵已達二十餘億元，使該黨遭到執行署強制執行，以目前黨的財務狀況，根本無力負擔，因此絕非如綠營民代所說國民黨拒繳。行管會表示，為支付法定義務款項，國民黨將向黨產會申請動用中投及欣裕台公司應給付該黨的現金股利用以繳納，並呼籲黨產會，中投及欣裕台目前仍未移轉為國有，所有權還是國民黨所有，股利也應歸該黨所有，因此國民黨以此給付黨產條例第九條所述法定義務，實為合法、合理之舉，黨產會不應刻意阻撓。',\n",
       "  'tags': []},\n",
       " {'date': '2018-10-24',\n",
       "  'title': '無錢繳黨職併公職溢領金？ 黨產會：國民黨還有其他收入',\n",
       "  'link': 'http://news.ltn.com.tw/news/politics/paper/1241671',\n",
       "  'content': '〔記者李欣芳／台北報導〕國民黨指被凍結的永豐銀行帳戶餘款，不足以支付被追討的黨職併公職溢領金，對於國民黨喊窮之舉，黨產會發言人施錦芳昨指出，追討這筆黨職併公職溢領金的款項，屬於銓敘部的職權，但國民黨還有其他合法的收入，例如政黨補助金、黨費、政治獻金等，不能說帳戶裡錢不夠就不付。黨產會因認定中投與欣裕台這兩家公司是國民黨的附隨組織，凍結其資產並命其移轉國有後，據悉，國民黨數度向黨產會申請動支中投及欣裕台的現金股利，用以支付國民黨中山獎學金、黨工退休金及地價稅、房屋稅等法定義務款項，但均遭黨產會駁回。中投與欣裕台因不服黨產會認定它們是國民黨的附隨組織而提起行政訴訟，台北高等行政法院六月認為黨產條例有違憲之虞，聲請釋憲並裁定停止訴訟。黨產會抗告，最高行政法院在八月裁定駁回抗告，全案將待大法官釋憲結果出爐之後，才能進行下一步訴訟。據悉，基於中投與欣裕台每年上繳給國民黨的股利豐厚，國民黨因此多次向黨產會申請解凍中投與欣裕台的現金股利，包括今年二月間國民黨以支付積欠資遣員工資遣費共九．七億元為由，向黨產會申請解凍中投現金股利八．三億元及欣裕台減資款三億元，共計十一．三億元。施錦芳表示，黨產會已認定中投與欣裕台是國民黨的附隨組織，並命其移轉國有，此案仍在訴訟過程中，在整個訴訟未確定之前，黨產會不會核准國民黨申請動支中投及欣裕台的現金股利。',\n",
       "  'tags': []},\n",
       " {'date': '2018-10-25',\n",
       "  'title': '段宜康指控 監察院長張博雅違規助選',\n",
       "  'link': 'http://news.ltn.com.tw/news/politics/paper/1241916',\n",
       "  'content': '〔記者鍾麗華、王善嬿／綜合報導〕立法院司法及法制委員會昨邀請監察院專案報告，民進黨立委段宜康質詢時，出示監察院長張博雅為嘉義市議員候選人戴寧等人助選的兩張照片，強調監委應超越黨派，不能幫候選人助選，要求備詢的監察院秘書長傅孟融把張博雅送交紀律委員會議處。不過，傅孟融表示，此一行為是否違反規定，要由紀律委員會認定。張博雅回應，她是嘉義人，因此認識戴寧的父母，她假日當天到競選總部時，候選人本人並不在，她只是在現場和候選人的母親話家常，有人來找她照相，不好拒絕，但她並沒有上台、也沒有助選，擔任公職以來，從來沒有違反行政中立。段宜康指出，如監委基於私誼，到候選人家裡加油打氣，這是人情世故，不會被當成助選，但若是公開行程，到競選總部與候選人拍照，這是公開表態。依照「監察院監委自律規範」第二條規定，監委依法行使職權，應超出黨派，保持中立，不得為公職候選人助選。段宜康說，張博雅助選行程不只一個，監委如違反紀律規範，監院可要求促其注意、警告、或以口頭、書面於院會時道歉，或依法彈劾；他認為，雖然張博雅不到彈劾的程度，但應道歉，他要求傅孟融在審查監院預算前，把張送交紀律委員會議處。監察院長張博雅日前造訪無黨籍嘉義市議員戴寧、蔡榮豐、吳上明等人競選總部。戴寧表示，父親戴建三曾任市議員，與張博雅的母親、已故市長許世賢交好，許世賢過世時，父親是抬棺者之一，張博雅從小看她長大，她都稱張博雅為「阿姨」；選舉期間，她的母親都在競選總部，張博雅基於世交情誼來探訪，並未事先通知，母親與張博雅合照，只張貼在母親的臉書上，希望不要過度解讀。蔡榮豐說，他與張博雅為舊識，張二十一日晚上以好友身分來看他，表明要行政中立、不能助選，現場鄉親見機會難得而與張拍照留念，這樣也不行？他覺得段宜康是小題大作。吳上明表示，張博雅二十一日下午三點多來訪，他沒遇見，但他的叔公、前省議員吳一衛與許世賢熟識，他兼任張進通許世賢教育事務基金會常務監事，張博雅是「老市長」，兩家交情深厚，因此將她送交監院紀委會太沒道理。',\n",
       "  'tags': []},\n",
       " {'date': '2018-10-25',\n",
       "  'title': '選前之夜 丁搶下凱道 姚地點保密',\n",
       "  'link': 'http://news.ltn.com.tw/news/politics/paper/1241917',\n",
       "  'content': '〔記者鍾泓良、沈佩瑤、周彥妤、郭安家／台北報導〕選舉倒數一個月，根據台北市政府規定，昨凌晨起申請十一月廿三日「選前之夜」道路及公園使用權。據了解，國民黨台北市長候選人丁守中捷足先登，「選前之夜」搶下凱達格蘭大道、濟南路及大安公園三處；民進黨台北市長候選人姚文智競辦指已借到場地，但不願對外透露；台北市長柯文哲選前之夜地點原擬在市府路與大安公園舉辦，但前者未在時間內送件被駁回，大安公園已被丁借走。丁守中團隊發言人詹為元表示，選前之夜總共申請凱道、立法院旁濟南路兩路段及大安公園。據了解，凱道及濟南路確實已由丁搶下，大安公園十一月廿三日也已註記是「丁守中市長候選人造勢活動」。柯陣營原有意在市府前廣場辦選前之夜，十一月廿三日有李姓民眾提申請（柯陣營人士），但因未在規定時間內送件而被駁回。姚文智競選辦公室發言人洪立齊說，選前之夜及最後一週活動地點有考量過凱道、中央黨部旁的北平東路、市府廣場及國父紀念館，並稱場地已借到，會儘快找時機公布。',\n",
       "  'tags': []}]"
      ]
     },
     "execution_count": 4,
     "metadata": {},
     "output_type": "execute_result"
    }
   ],
   "source": [
    "all_data[0:5]"
   ]
  },
  {
   "cell_type": "markdown",
   "metadata": {},
   "source": [
    "Turn it into pandas dataframe"
   ]
  },
  {
   "cell_type": "code",
   "execution_count": 5,
   "metadata": {},
   "outputs": [
    {
     "data": {
      "text/html": [
       "<div>\n",
       "<style scoped>\n",
       "    .dataframe tbody tr th:only-of-type {\n",
       "        vertical-align: middle;\n",
       "    }\n",
       "\n",
       "    .dataframe tbody tr th {\n",
       "        vertical-align: top;\n",
       "    }\n",
       "\n",
       "    .dataframe thead th {\n",
       "        text-align: right;\n",
       "    }\n",
       "</style>\n",
       "<table border=\"1\" class=\"dataframe\">\n",
       "  <thead>\n",
       "    <tr style=\"text-align: right;\">\n",
       "      <th></th>\n",
       "      <th>date</th>\n",
       "      <th>title</th>\n",
       "      <th>link</th>\n",
       "      <th>content</th>\n",
       "      <th>tags</th>\n",
       "    </tr>\n",
       "  </thead>\n",
       "  <tbody>\n",
       "    <tr>\n",
       "      <th>0</th>\n",
       "      <td>2018-10-24</td>\n",
       "      <td>爭議太大 立院不審宗教法</td>\n",
       "      <td>http://news.ltn.com.tw/news/politics/paper/124...</td>\n",
       "      <td>〔記者楊淳卉、林良昇、李欣芳／台北報導〕立法院內政委員會原排定今天審查國民黨立委王金平、黃昭...</td>\n",
       "      <td>[]</td>\n",
       "    </tr>\n",
       "    <tr>\n",
       "      <th>1</th>\n",
       "      <td>2018-10-24</td>\n",
       "      <td>黨職併公職溢領金 國民黨：無力負擔非拒繳</td>\n",
       "      <td>http://news.ltn.com.tw/news/politics/paper/124...</td>\n",
       "      <td>〔記者施曉光／台北報導〕針對外界質疑國民黨有錢，卻拒繳黨職併公職溢領金，國民黨行管會昨天澄清...</td>\n",
       "      <td>[]</td>\n",
       "    </tr>\n",
       "    <tr>\n",
       "      <th>2</th>\n",
       "      <td>2018-10-24</td>\n",
       "      <td>無錢繳黨職併公職溢領金？ 黨產會：國民黨還有其他收入</td>\n",
       "      <td>http://news.ltn.com.tw/news/politics/paper/124...</td>\n",
       "      <td>〔記者李欣芳／台北報導〕國民黨指被凍結的永豐銀行帳戶餘款，不足以支付被追討的黨職併公職溢領金...</td>\n",
       "      <td>[]</td>\n",
       "    </tr>\n",
       "    <tr>\n",
       "      <th>3</th>\n",
       "      <td>2018-10-25</td>\n",
       "      <td>段宜康指控 監察院長張博雅違規助選</td>\n",
       "      <td>http://news.ltn.com.tw/news/politics/paper/124...</td>\n",
       "      <td>〔記者鍾麗華、王善嬿／綜合報導〕立法院司法及法制委員會昨邀請監察院專案報告，民進黨立委段宜康...</td>\n",
       "      <td>[]</td>\n",
       "    </tr>\n",
       "    <tr>\n",
       "      <th>4</th>\n",
       "      <td>2018-10-25</td>\n",
       "      <td>選前之夜 丁搶下凱道 姚地點保密</td>\n",
       "      <td>http://news.ltn.com.tw/news/politics/paper/124...</td>\n",
       "      <td>〔記者鍾泓良、沈佩瑤、周彥妤、郭安家／台北報導〕選舉倒數一個月，根據台北市政府規定，昨凌晨起...</td>\n",
       "      <td>[]</td>\n",
       "    </tr>\n",
       "  </tbody>\n",
       "</table>\n",
       "</div>"
      ],
      "text/plain": [
       "         date                       title  \\\n",
       "0  2018-10-24                爭議太大 立院不審宗教法   \n",
       "1  2018-10-24        黨職併公職溢領金 國民黨：無力負擔非拒繳   \n",
       "2  2018-10-24  無錢繳黨職併公職溢領金？ 黨產會：國民黨還有其他收入   \n",
       "3  2018-10-25           段宜康指控 監察院長張博雅違規助選   \n",
       "4  2018-10-25            選前之夜 丁搶下凱道 姚地點保密   \n",
       "\n",
       "                                                link  \\\n",
       "0  http://news.ltn.com.tw/news/politics/paper/124...   \n",
       "1  http://news.ltn.com.tw/news/politics/paper/124...   \n",
       "2  http://news.ltn.com.tw/news/politics/paper/124...   \n",
       "3  http://news.ltn.com.tw/news/politics/paper/124...   \n",
       "4  http://news.ltn.com.tw/news/politics/paper/124...   \n",
       "\n",
       "                                             content tags  \n",
       "0  〔記者楊淳卉、林良昇、李欣芳／台北報導〕立法院內政委員會原排定今天審查國民黨立委王金平、黃昭...   []  \n",
       "1  〔記者施曉光／台北報導〕針對外界質疑國民黨有錢，卻拒繳黨職併公職溢領金，國民黨行管會昨天澄清...   []  \n",
       "2  〔記者李欣芳／台北報導〕國民黨指被凍結的永豐銀行帳戶餘款，不足以支付被追討的黨職併公職溢領金...   []  \n",
       "3  〔記者鍾麗華、王善嬿／綜合報導〕立法院司法及法制委員會昨邀請監察院專案報告，民進黨立委段宜康...   []  \n",
       "4  〔記者鍾泓良、沈佩瑤、周彥妤、郭安家／台北報導〕選舉倒數一個月，根據台北市政府規定，昨凌晨起...   []  "
      ]
     },
     "execution_count": 5,
     "metadata": {},
     "output_type": "execute_result"
    }
   ],
   "source": [
    "import pandas as pd\n",
    "pd.DataFrame(all_data)[['date', 'title', 'link', 'content', 'tags']].head()"
   ]
  },
  {
   "cell_type": "code",
   "execution_count": null,
   "metadata": {},
   "outputs": [],
   "source": []
  }
 ],
 "metadata": {
  "kernelspec": {
   "display_name": "Python 3",
   "language": "python",
   "name": "python3"
  },
  "language_info": {
   "codemirror_mode": {
    "name": "ipython",
    "version": 3
   },
   "file_extension": ".py",
   "mimetype": "text/x-python",
   "name": "python",
   "nbconvert_exporter": "python",
   "pygments_lexer": "ipython3",
   "version": "3.6.5"
  }
 },
 "nbformat": 4,
 "nbformat_minor": 2
}
